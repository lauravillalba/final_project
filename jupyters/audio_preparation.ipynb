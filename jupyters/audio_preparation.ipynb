{
 "cells": [
  {
   "cell_type": "markdown",
   "metadata": {},
   "source": [
    "## Preparación de audio:\n",
    "\n",
    "Voy a generar un diccionrio key = persona y value = lista de audios, para a continuación unir todos los audios de cada persona. El objetivo es tener un único audio por persona que luego trocearé para entrenar el Autoencoder."
   ]
  },
  {
   "cell_type": "code",
   "execution_count": 1,
   "metadata": {},
   "outputs": [],
   "source": [
    "import os"
   ]
  },
  {
   "cell_type": "code",
   "execution_count": 2,
   "metadata": {},
   "outputs": [
    {
     "name": "stdout",
     "output_type": "stream",
     "text": [
      "['6070', '7105', '533', '3764', '8188', '3331', '3997', '2414', '4852', '.DS_Store', '6938', '6128', '8280', '3528', '5442', '4198', '4350', '7902', '367', '3538', '8461', '4294', '3080', '7018', '5764', '1998', '3005', '2609', '7975', '2033', '6432', '8131', '5484', '1688']\n"
     ]
    }
   ],
   "source": [
    "people = os.listdir(\"../inputs/LibriSpeech/test-other\")\n",
    "print(people)"
   ]
  },
  {
   "cell_type": "code",
   "execution_count": 3,
   "metadata": {},
   "outputs": [],
   "source": [
    "people.remove(\".DS_Store\") "
   ]
  },
  {
   "cell_type": "code",
   "execution_count": 4,
   "metadata": {},
   "outputs": [],
   "source": [
    "all_files = {}\n",
    "for p in people:\n",
    "    list_dir = os.listdir(f'../inputs/LibriSpeech/test-other/{p}')\n",
    "    if '.DS_Store' in list_dir:\n",
    "        list_dir.remove(\".DS_Store\")\n",
    "    file_dict ={}\n",
    "    for l in list_dir:\n",
    "        files = [x for x in os.listdir(f'../inputs/LibriSpeech/test-other/{p}/{l}') if x.endswith(\".flac\")]\n",
    "        file_dict[l]= files\n",
    "    \n",
    "    all_files[p] = file_dict\n",
    "\n"
   ]
  },
  {
   "cell_type": "code",
   "execution_count": 5,
   "metadata": {
    "scrolled": false
   },
   "outputs": [
    {
     "data": {
      "text/plain": [
       "{'86744': ['6070-86744-0027.flac',\n",
       "  '6070-86744-0011.flac',\n",
       "  '6070-86744-0007.flac',\n",
       "  '6070-86744-0006.flac',\n",
       "  '6070-86744-0010.flac',\n",
       "  '6070-86744-0026.flac',\n",
       "  '6070-86744-0017.flac',\n",
       "  '6070-86744-0001.flac',\n",
       "  '6070-86744-0021.flac',\n",
       "  '6070-86744-0020.flac',\n",
       "  '6070-86744-0000.flac',\n",
       "  '6070-86744-0016.flac',\n",
       "  '6070-86744-0003.flac',\n",
       "  '6070-86744-0015.flac',\n",
       "  '6070-86744-0019.flac',\n",
       "  '6070-86744-0023.flac',\n",
       "  '6070-86744-0022.flac',\n",
       "  '6070-86744-0018.flac',\n",
       "  '6070-86744-0014.flac',\n",
       "  '6070-86744-0002.flac',\n",
       "  '6070-86744-0009.flac',\n",
       "  '6070-86744-0025.flac',\n",
       "  '6070-86744-0005.flac',\n",
       "  '6070-86744-0013.flac',\n",
       "  '6070-86744-0029.flac',\n",
       "  '6070-86744-0028.flac',\n",
       "  '6070-86744-0012.flac',\n",
       "  '6070-86744-0004.flac',\n",
       "  '6070-86744-0024.flac',\n",
       "  '6070-86744-0008.flac'],\n",
       " '63485': ['6070-63485-0007.flac',\n",
       "  '6070-63485-0011.flac',\n",
       "  '6070-63485-0010.flac',\n",
       "  '6070-63485-0006.flac',\n",
       "  '6070-63485-0001.flac',\n",
       "  '6070-63485-0017.flac',\n",
       "  '6070-63485-0016.flac',\n",
       "  '6070-63485-0000.flac',\n",
       "  '6070-63485-0015.flac',\n",
       "  '6070-63485-0003.flac',\n",
       "  '6070-63485-0002.flac',\n",
       "  '6070-63485-0014.flac',\n",
       "  '6070-63485-0018.flac',\n",
       "  '6070-63485-0013.flac',\n",
       "  '6070-63485-0005.flac',\n",
       "  '6070-63485-0009.flac',\n",
       "  '6070-63485-0008.flac',\n",
       "  '6070-63485-0004.flac',\n",
       "  '6070-63485-0012.flac'],\n",
       " '86745': ['6070-86745-0001.flac',\n",
       "  '6070-86745-0017.flac',\n",
       "  '6070-86745-0016.flac',\n",
       "  '6070-86745-0000.flac',\n",
       "  '6070-86745-0007.flac',\n",
       "  '6070-86745-0011.flac',\n",
       "  '6070-86745-0010.flac',\n",
       "  '6070-86745-0006.flac',\n",
       "  '6070-86745-0009.flac',\n",
       "  '6070-86745-0013.flac',\n",
       "  '6070-86745-0005.flac',\n",
       "  '6070-86745-0004.flac',\n",
       "  '6070-86745-0012.flac',\n",
       "  '6070-86745-0008.flac',\n",
       "  '6070-86745-0015.flac',\n",
       "  '6070-86745-0003.flac',\n",
       "  '6070-86745-0019.flac',\n",
       "  '6070-86745-0018.flac',\n",
       "  '6070-86745-0002.flac',\n",
       "  '6070-86745-0014.flac']}"
      ]
     },
     "execution_count": 5,
     "metadata": {},
     "output_type": "execute_result"
    }
   ],
   "source": [
    "all_files['6070']"
   ]
  },
  {
   "cell_type": "code",
   "execution_count": 6,
   "metadata": {},
   "outputs": [],
   "source": [
    "#Unifico audios por persona y cambio a formato MP3:\n",
    "\n",
    "from pydub import AudioSegment\n",
    "\n",
    "for p_id, p_info in all_files.items():\n",
    "    #print(p_id)\n",
    "    #print(p_info)\n",
    "    audio = 0\n",
    "    for key, values in p_info.items():\n",
    "        #print (key)\n",
    "        #print(values)\n",
    "        for v in values:\n",
    "            audio += AudioSegment.from_file(f'../inputs/LibriSpeech/test-other/{p_id}/{key}/{v}', format = 'flac')\n",
    "    \n",
    "    audio.export(f'../outputs/combined_sound/{p_id}.mp3', format='mp3')\n",
    "    \n"
   ]
  },
  {
   "cell_type": "markdown",
   "metadata": {},
   "source": [
    "Troceo los audios en audios de 20', con un overlap de 50%. Antes obtendré para cada persona el tiempo total de audio, y descartaré aquellos que no cumplan un mínimo."
   ]
  },
  {
   "cell_type": "code",
   "execution_count": 7,
   "metadata": {},
   "outputs": [],
   "source": [
    "milis=6000000000\n",
    "time = []\n",
    "for p in people:\n",
    "    origin = AudioSegment.from_file(f'../outputs/combined_sound/{p}.mp3', format='mp3')\n",
    "    time.append((p,len(origin)))\n",
    "    if len(origin)<milis:\n",
    "        milis=len(origin)\n",
    "    "
   ]
  },
  {
   "cell_type": "code",
   "execution_count": 8,
   "metadata": {},
   "outputs": [
    {
     "data": {
      "text/plain": [
       "[('6070', 600650),\n",
       " ('7105', 609135),\n",
       " ('533', 602895),\n",
       " ('3764', 607120),\n",
       " ('8188', 607045),\n",
       " ('3331', 604705),\n",
       " ('3997', 618325),\n",
       " ('2414', 605840),\n",
       " ('4852', 612240),\n",
       " ('6938', 158355),\n",
       " ('6128', 607685),\n",
       " ('8280', 489100),\n",
       " ('3528', 615785),\n",
       " ('5442', 606750),\n",
       " ('4198', 608110),\n",
       " ('4350', 607431),\n",
       " ('7902', 605190),\n",
       " ('367', 404205),\n",
       " ('3538', 601990),\n",
       " ('8461', 607810),\n",
       " ('4294', 610370),\n",
       " ('3080', 607685),\n",
       " ('7018', 614280),\n",
       " ('5764', 603485),\n",
       " ('1998', 600955),\n",
       " ('3005', 602230),\n",
       " ('2609', 605865),\n",
       " ('7975', 602615),\n",
       " ('2033', 601605),\n",
       " ('6432', 601425),\n",
       " ('8131', 602670),\n",
       " ('5484', 606425),\n",
       " ('1688', 589595)]"
      ]
     },
     "execution_count": 8,
     "metadata": {},
     "output_type": "execute_result"
    }
   ],
   "source": [
    "time"
   ]
  },
  {
   "cell_type": "code",
   "execution_count": 9,
   "metadata": {},
   "outputs": [
    {
     "data": {
      "text/plain": [
       "['6938', '8280', '367', '1688']"
      ]
     },
     "execution_count": 9,
     "metadata": {},
     "output_type": "execute_result"
    }
   ],
   "source": [
    "#Descarto para el análisis  los audios con time<600000 para que el resultado final quede balanceado \n",
    "# (número de audios por persona similar): \n",
    "\n",
    "discarted = [e[0] for e in time if e[1]<600000]\n",
    "discarted"
   ]
  },
  {
   "cell_type": "code",
   "execution_count": 10,
   "metadata": {},
   "outputs": [],
   "source": [
    "#Aplico un overlap 50%:\n",
    "\n",
    "interval = 20000\n",
    "\n",
    "for p in people:\n",
    "    if p not in discarted:\n",
    "        origin = AudioSegment.from_file(f'../outputs/combined_sound/{p}.mp3', format='mp3')\n",
    "        num = (len(origin)//interval)*2\n",
    "        counter = 0\n",
    "\n",
    "        for i in range(num):\n",
    "            if counter == 0:\n",
    "                splited = origin[0:interval]\n",
    "                counter+=int(interval/2)\n",
    "                interval+=int(counter)\n",
    "            else: \n",
    "                splited = origin[counter:interval]\n",
    "                counter+=10000\n",
    "                interval+=10000\n",
    "\n",
    "            splited.export(f'../outputs/splited_audio/{p}_{i}.mp3', format='mp3')\n",
    "\n",
    "            #print(f'Exportado {p}_{i}.mp3 - audio_time= {len(splited)}')\n",
    "\n",
    "    #print('FIN!')"
   ]
  },
  {
   "cell_type": "code",
   "execution_count": null,
   "metadata": {},
   "outputs": [],
   "source": []
  },
  {
   "cell_type": "code",
   "execution_count": null,
   "metadata": {},
   "outputs": [],
   "source": []
  },
  {
   "cell_type": "code",
   "execution_count": null,
   "metadata": {},
   "outputs": [],
   "source": []
  }
 ],
 "metadata": {
  "kernelspec": {
   "display_name": "Python 3",
   "language": "python",
   "name": "python3"
  },
  "language_info": {
   "codemirror_mode": {
    "name": "ipython",
    "version": 3
   },
   "file_extension": ".py",
   "mimetype": "text/x-python",
   "name": "python",
   "nbconvert_exporter": "python",
   "pygments_lexer": "ipython3",
   "version": "3.7.6"
  }
 },
 "nbformat": 4,
 "nbformat_minor": 4
}
